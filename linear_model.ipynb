{
 "cells": [
  {
   "cell_type": "markdown",
   "metadata": {},
   "source": [
    "**Author**: Siddhant Sutar"
   ]
  },
  {
   "cell_type": "markdown",
   "metadata": {},
   "source": [
    "Import Pandas, Numpy, and linear regression model from Scikit-Learn."
   ]
  },
  {
   "cell_type": "code",
   "execution_count": 90,
   "metadata": {
    "collapsed": false
   },
   "outputs": [],
   "source": [
    "import pandas as pd\n",
    "import numpy as np\n",
    "from sklearn.linear_model import LinearRegression"
   ]
  },
  {
   "cell_type": "markdown",
   "metadata": {},
   "source": [
    "Read the CSV data obtained from OMDb."
   ]
  },
  {
   "cell_type": "code",
   "execution_count": 91,
   "metadata": {
    "collapsed": true
   },
   "outputs": [],
   "source": [
    "data = pd.read_csv(\"omdbMovies.csv\")"
   ]
  },
  {
   "cell_type": "markdown",
   "metadata": {},
   "source": [
    "Dataset contains multiple entries of movies with same imdbID; drop duplicates. Drop all rows with NaN votes. "
   ]
  },
  {
   "cell_type": "code",
   "execution_count": 92,
   "metadata": {
    "collapsed": false
   },
   "outputs": [],
   "source": [
    "df = data.drop_duplicates(subset='imdbID')\n",
    "df = df[pd.notnull(data['imdbVotes'])]"
   ]
  },
  {
   "cell_type": "markdown",
   "metadata": {},
   "source": [
    "Calculate threshold. Threshold is the nth percentile of the list of number of iMDB votes of all movies with non-zero votes. The training dataset will include only movies with votes above this value. Standardized approach rather than using a constant. Also chose 97 because it seems to be the least percentile that is also fast and does not cause any issues on my machine."
   ]
  },
  {
   "cell_type": "code",
   "execution_count": 93,
   "metadata": {
    "collapsed": true
   },
   "outputs": [],
   "source": [
    "THRESHOLD = np.percentile(df['imdbVotes'].tolist(), 97)"
   ]
  },
  {
   "cell_type": "markdown",
   "metadata": {},
   "source": [
    "Clean up the data: get only USA movies, drop rows with NaN as genre, remove documentaries and shorts, and get the movies that pass the threshold."
   ]
  },
  {
   "cell_type": "code",
   "execution_count": 94,
   "metadata": {
    "collapsed": false
   },
   "outputs": [
    {
     "name": "stdout",
     "output_type": "stream",
     "text": [
      "Movie count: 5078\n"
     ]
    }
   ],
   "source": [
    "df = df.loc[df['Country'] == \"USA\"]\n",
    "df = df[pd.notnull(df['Genre'])]\n",
    "df = df[~df['Genre'].str.contains(\"Documentary|Short\")]\n",
    "df = df.loc[df['imdbVotes'] > THRESHOLD]\n",
    "print 'Movie count: ' + str(len(df.index))"
   ]
  },
  {
   "cell_type": "markdown",
   "metadata": {},
   "source": [
    "Create feature vectors for ratings, genres, directors, and actors. Using str.get_dummies(sep=', ') to account for multiple genres/directors of a same movie."
   ]
  },
  {
   "cell_type": "code",
   "execution_count": 95,
   "metadata": {
    "collapsed": false
   },
   "outputs": [],
   "source": [
    "ratings = df['Rating'].str.get_dummies(sep=', ')\n",
    "genres = df['Genre'].str.get_dummies(sep=', ')\n",
    "directors = df['Director'].str.get_dummies(sep=', ')"
   ]
  },
  {
   "cell_type": "code",
   "execution_count": 96,
   "metadata": {
    "collapsed": false
   },
   "outputs": [],
   "source": [
    "actors = df['Cast'].str.get_dummies(sep=', ')"
   ]
  },
  {
   "cell_type": "markdown",
   "metadata": {},
   "source": [
    "Add a 'dir' prefix to the directors feature vector before concatenating to the original dataframe to account for actors who are directors as well (thereby avoiding identical column names)."
   ]
  },
  {
   "cell_type": "code",
   "execution_count": 97,
   "metadata": {
    "collapsed": false
   },
   "outputs": [],
   "source": [
    "directors = directors.rename(columns = lambda x : 'dir_' + x)"
   ]
  },
  {
   "cell_type": "markdown",
   "metadata": {},
   "source": [
    "Concatenate the feature vectors to the original dataframe."
   ]
  },
  {
   "cell_type": "code",
   "execution_count": 98,
   "metadata": {
    "collapsed": false
   },
   "outputs": [],
   "source": [
    "df = pd.concat([df, ratings], axis = 1)\n",
    "df = pd.concat([df, genres], axis = 1)\n",
    "df = pd.concat([df, directors], axis = 1)\n",
    "df = pd.concat([df, actors], axis = 1)"
   ]
  },
  {
   "cell_type": "markdown",
   "metadata": {},
   "source": [
    "Rating, genre(s), director(s), actor(s) go into the feature_cols list as features (independent categorical variables). Predictor imdbRating is the dependent variable. Instantiate and fit."
   ]
  },
  {
   "cell_type": "code",
   "execution_count": 99,
   "metadata": {
    "collapsed": false
   },
   "outputs": [
    {
     "data": {
      "text/plain": [
       "LinearRegression(copy_X=True, fit_intercept=True, n_jobs=1, normalize=False)"
      ]
     },
     "execution_count": 99,
     "metadata": {},
     "output_type": "execute_result"
    }
   ],
   "source": [
    "feature_cols = ['PG-13', 'Comedy', 'Drama', 'Romance', 'dir_Tom Hanks', 'Tom Hanks', 'Julia Roberts', 'Sarah Mahoney']\n",
    "X = df[feature_cols]\n",
    "y = df.imdbRating\n",
    "lm = LinearRegression()\n",
    "lm.fit(X, y)"
   ]
  },
  {
   "cell_type": "markdown",
   "metadata": {},
   "source": [
    "Print intercept and co-efficients."
   ]
  },
  {
   "cell_type": "code",
   "execution_count": 100,
   "metadata": {
    "collapsed": false
   },
   "outputs": [
    {
     "name": "stdout",
     "output_type": "stream",
     "text": [
      "6.29271061457\n",
      "[-0.35594073 -0.22644887  0.58879227  0.11824794  0.14494599  0.47784332\n",
      " -0.18842884 -1.04015054]\n"
     ]
    }
   ],
   "source": [
    "print lm.intercept_\n",
    "print lm.coef_"
   ]
  },
  {
   "cell_type": "markdown",
   "metadata": {},
   "source": [
    "Predict the rating!"
   ]
  },
  {
   "cell_type": "code",
   "execution_count": 101,
   "metadata": {
    "collapsed": false
   },
   "outputs": [
    {
     "data": {
      "text/plain": [
       "5.8115711598762543"
      ]
     },
     "execution_count": 101,
     "metadata": {},
     "output_type": "execute_result"
    }
   ],
   "source": [
    "lm.predict([1 for each in range(0, len(feature_cols))])[0]"
   ]
  },
  {
   "cell_type": "code",
   "execution_count": null,
   "metadata": {
    "collapsed": true
   },
   "outputs": [],
   "source": []
  }
 ],
 "metadata": {
  "kernelspec": {
   "display_name": "Python 2",
   "language": "python",
   "name": "python2"
  },
  "language_info": {
   "codemirror_mode": {
    "name": "ipython",
    "version": 2
   },
   "file_extension": ".py",
   "mimetype": "text/x-python",
   "name": "python",
   "nbconvert_exporter": "python",
   "pygments_lexer": "ipython2",
   "version": "2.7.10"
  }
 },
 "nbformat": 4,
 "nbformat_minor": 0
}
