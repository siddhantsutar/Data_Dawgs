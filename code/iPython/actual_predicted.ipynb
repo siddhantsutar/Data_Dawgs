{
 "cells": [
  {
   "cell_type": "markdown",
   "metadata": {},
   "source": [
    "**Author**: Siddhant Sutar"
   ]
  },
  {
   "cell_type": "code",
   "execution_count": null,
   "metadata": {
    "collapsed": true,
    "scrolled": true
   },
   "outputs": [],
   "source": [
    "import json\n",
    "import numpy as np\n",
    "import matplotlib.pyplot as plt\n",
    "import pylab\n",
    "import scipy\n",
    "from sklearn.metrics import mean_squared_error\n",
    "from sklearn.metrics import mean_absolute_error\n",
    "from sklearn.metrics import r2_score\n",
    "%matplotlib inline"
   ]
  },
  {
   "cell_type": "code",
   "execution_count": null,
   "metadata": {
    "collapsed": true,
    "scrolled": true
   },
   "outputs": [],
   "source": [
    "actual_linear = json.load(open(\"actual_linear.json\", \"r\"))\n",
    "actual_logistic = json.load(open(\"actual_logistic.json\", \"r\"))\n",
    "predicted_linear = json.load(open(\"predicted_linear.json\", \"r\"))\n",
    "predicted_logistic = json.load(open(\"predicted_logistic.json\", \"r\"))"
   ]
  },
  {
   "cell_type": "code",
   "execution_count": null,
   "metadata": {
    "collapsed": true,
    "scrolled": true
   },
   "outputs": [],
   "source": [
    "x1 = []\n",
    "x2 = []\n",
    "y1 = []\n",
    "y2 = []"
   ]
  },
  {
   "cell_type": "code",
   "execution_count": null,
   "metadata": {
    "collapsed": false,
    "scrolled": true
   },
   "outputs": [],
   "source": [
    "for key, value in predicted_linear.iteritems():\n",
    "    if value < 0 or value > 10:\n",
    "        pass\n",
    "    else:\n",
    "        x1.append(value)\n",
    "        y1.append(actual_linear[key])"
   ]
  },
  {
   "cell_type": "code",
   "execution_count": null,
   "metadata": {
    "collapsed": true,
    "scrolled": true
   },
   "outputs": [],
   "source": [
    "for key, value in predicted_logistic.iteritems():\n",
    "    if value < 0 or value > 10:\n",
    "        pass\n",
    "    else:\n",
    "        x2.append(value)\n",
    "        y2.append(actual_logistic[key])"
   ]
  },
  {
   "cell_type": "code",
   "execution_count": null,
   "metadata": {
    "collapsed": false,
    "scrolled": true
   },
   "outputs": [],
   "source": [
    "plt.figure(figsize=(15,10))\n",
    "plt.scatter(x1, y1, color = 'red')\n",
    "plt.plot(x1, np.poly1d(np.polyfit(x1, y1, 1))(x1)) #line of best-fit\n",
    "pylab.title('Predicted vs. Actual ratings (Linear Regression)')\n",
    "pylab.xlabel('Predicted')\n",
    "pylab.ylabel('Actual')"
   ]
  },
  {
   "cell_type": "code",
   "execution_count": null,
   "metadata": {
    "collapsed": false,
    "scrolled": true
   },
   "outputs": [],
   "source": [
    "slope, intercept, r_value, p_value, std_err = scipy.stats.linregress(y1, x1)\n",
    "print \"LINEAR REGRESSION:\"\n",
    "print \"R-squared:\", r_value**2\n",
    "print \"RMSE:\", mean_squared_error(y1, x1) ** 0.5\n",
    "print \"MAE:\", mean_absolute_error(y1, x1)"
   ]
  },
  {
   "cell_type": "code",
   "execution_count": null,
   "metadata": {
    "collapsed": false,
    "scrolled": true
   },
   "outputs": [],
   "source": [
    "print \"LOGISTIC REGRESSION:\"\n",
    "print \"RMSE:\", mean_squared_error(y2, x2) ** 0.5\n",
    "print \"MAE:\", mean_absolute_error(y2, x2)"
   ]
  },
  {
   "cell_type": "code",
   "execution_count": null,
   "metadata": {
    "collapsed": false,
    "scrolled": true
   },
   "outputs": [],
   "source": []
  }
 ],
 "metadata": {
  "kernelspec": {
   "display_name": "Python 2",
   "language": "python",
   "name": "python2"
  },
  "language_info": {
   "codemirror_mode": {
    "name": "ipython",
    "version": 2
   },
   "file_extension": ".py",
   "mimetype": "text/x-python",
   "name": "python",
   "nbconvert_exporter": "python",
   "pygments_lexer": "ipython2",
   "version": "2.7.10"
  }
 },
 "nbformat": 4,
 "nbformat_minor": 0
}
