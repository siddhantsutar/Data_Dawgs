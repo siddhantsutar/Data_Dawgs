{
 "cells": [
  {
   "cell_type": "markdown",
   "metadata": {},
   "source": [
    "**Author**: Siddhant Sutar"
   ]
  },
  {
   "cell_type": "markdown",
   "metadata": {},
   "source": [
    "Import Pandas, Numpy, and ordered logistic regression module by Fabian Pedregosa (with a few tweaks) obtained from https://github.com/fabianp/minirank/blob/master/minirank/logistic.py, since Scikit-learn doesn't support it yet."
   ]
  },
  {
   "cell_type": "code",
   "execution_count": 1,
   "metadata": {
    "collapsed": false
   },
   "outputs": [],
   "source": [
    "import pandas as pd\n",
    "import numpy as np\n",
    "import nltk\n",
    "from nltk.corpus import stopwords\n",
    "from sklearn.feature_extraction.text import TfidfVectorizer\n",
    "from scipy.sparse import hstack, csr_matrix\n",
    "from logistic import ordinal_logistic_fit, ordinal_logistic_predict"
   ]
  },
  {
   "cell_type": "markdown",
   "metadata": {},
   "source": [
    "Read training and test data."
   ]
  },
  {
   "cell_type": "code",
   "execution_count": 2,
   "metadata": {
    "collapsed": false
   },
   "outputs": [],
   "source": [
    "train = pd.read_csv(\"train.csv\")\n",
    "test = pd.read_csv(\"test.csv\")"
   ]
  },
  {
   "cell_type": "code",
   "execution_count": 3,
   "metadata": {
    "collapsed": true
   },
   "outputs": [],
   "source": [
    "def tokens(x):\n",
    "    return x.split(', ')"
   ]
  },
  {
   "cell_type": "code",
   "execution_count": 4,
   "metadata": {
    "collapsed": true
   },
   "outputs": [],
   "source": [
    "vectorizer = TfidfVectorizer(tokenizer=tokens, lowercase=False, use_idf=False, norm=False, binary=True)"
   ]
  },
  {
   "cell_type": "code",
   "execution_count": 5,
   "metadata": {
    "collapsed": false
   },
   "outputs": [
    {
     "data": {
      "text/plain": [
       "<47927x76908 sparse matrix of type '<type 'numpy.float64'>'\n",
       "\twith 184622 stored elements in Compressed Sparse Row format>"
      ]
     },
     "execution_count": 5,
     "metadata": {},
     "output_type": "execute_result"
    }
   ],
   "source": [
    "actors = vectorizer.fit_transform(train[\"Cast\"].fillna(''))\n",
    "actors_list = vectorizer.get_feature_names()[1:]\n",
    "actors_list = [x.encode('UTF8') for x in actors_list]\n",
    "actors"
   ]
  },
  {
   "cell_type": "code",
   "execution_count": 6,
   "metadata": {
    "collapsed": false
   },
   "outputs": [
    {
     "data": {
      "text/plain": [
       "<47927x21817 sparse matrix of type '<type 'numpy.float64'>'\n",
       "\twith 53373 stored elements in Compressed Sparse Row format>"
      ]
     },
     "execution_count": 6,
     "metadata": {},
     "output_type": "execute_result"
    }
   ],
   "source": [
    "directors = vectorizer.fit_transform(train[\"Director\"].fillna(''))\n",
    "directors_list = vectorizer.get_feature_names()[1:]\n",
    "directors_list = [x.encode('UTF8') for x in directors_list]\n",
    "directors"
   ]
  },
  {
   "cell_type": "code",
   "execution_count": 7,
   "metadata": {
    "collapsed": false
   },
   "outputs": [
    {
     "data": {
      "text/plain": [
       "<47927x22 sparse matrix of type '<type 'numpy.float64'>'\n",
       "\twith 85569 stored elements in Compressed Sparse Row format>"
      ]
     },
     "execution_count": 7,
     "metadata": {},
     "output_type": "execute_result"
    }
   ],
   "source": [
    "genres = vectorizer.fit_transform(train[\"Genre\"].fillna(''))\n",
    "genres_list = vectorizer.get_feature_names()[1:]\n",
    "genres_list = [x.encode('UTF8') for x in genres_list]\n",
    "genres"
   ]
  },
  {
   "cell_type": "code",
   "execution_count": 8,
   "metadata": {
    "collapsed": false
   },
   "outputs": [
    {
     "data": {
      "text/plain": [
       "<47927x61781 sparse matrix of type '<type 'numpy.float64'>'\n",
       "\twith 1374809 stored elements in Compressed Sparse Row format>"
      ]
     },
     "execution_count": 8,
     "metadata": {},
     "output_type": "execute_result"
    }
   ],
   "source": [
    "stopset = set(stopwords.words('english'))\n",
    "vectorizer = TfidfVectorizer(use_idf=False, norm=False, strip_accents='ascii', stop_words=stopset, binary=True)\n",
    "plot = vectorizer.fit_transform(train[\"FullPlot\"].fillna(''))\n",
    "keywords_list = vectorizer.get_feature_names()\n",
    "plot"
   ]
  },
  {
   "cell_type": "markdown",
   "metadata": {},
   "source": [
    "Ordered logit regression model"
   ]
  },
  {
   "cell_type": "code",
   "execution_count": 9,
   "metadata": {
    "collapsed": false
   },
   "outputs": [],
   "source": [
    "features = []\n",
    "g = [\"Biography\", \"Drama\", \"History\"]\n",
    "d = [\"Steven Spielberg\"]\n",
    "a = [\"Liam Neeson\", \"Ben Kingsley\", \"Ralph Fiennes\", \"Caroline Goodall\"]\n",
    "keywords = [] #[\"corruption\", \"vampire\", \"girl\"]\n",
    "for each in g:\n",
    "    features.append(genres[:, genres_list.index(str(each))+1].toarray().flatten())\n",
    "for each in d:\n",
    "    features.append(directors[:, directors_list.index(str(each))+1].toarray().flatten())\n",
    "for each in a:\n",
    "    features.append(actors[:, actors_list.index(str(each))+1].toarray().flatten())"
   ]
  },
  {
   "cell_type": "code",
   "execution_count": 10,
   "metadata": {
    "collapsed": false
   },
   "outputs": [
    {
     "name": "stderr",
     "output_type": "stream",
     "text": [
      "E:\\Softwares\\Anaconda\\lib\\site-packages\\scipy\\optimize\\_minimize.py:366: RuntimeWarning: Method TNC does not use Hessian-vector product information (hessp).\n",
      "  'information (hessp).' % method, RuntimeWarning)\n",
      "logistic.py:226: OptimizeWarning: Unknown solver options: maxfun\n",
      "  jac=f_grad, hessp=f_hess, options=options, callback=callback)\n"
     ]
    }
   ],
   "source": [
    "X = csr_matrix(features).transpose().todense()\n",
    "y = train.OrderedRating\n",
    "w, theta = ordinal_logistic_fit(X, y)"
   ]
  },
  {
   "cell_type": "markdown",
   "metadata": {},
   "source": [
    "Ordered ratings: 0 = [0-5), 1 = [5-6), 2 = [6-7), 3 = [7-8), 4 = [8-9), 5 = [9-10)"
   ]
  },
  {
   "cell_type": "code",
   "execution_count": 11,
   "metadata": {
    "collapsed": false
   },
   "outputs": [
    {
     "name": "stdout",
     "output_type": "stream",
     "text": [
      "5\n"
     ]
    }
   ],
   "source": [
    "pred = ordinal_logistic_predict(w, theta, np.ones(len(features)))\n",
    "print(pred)"
   ]
  }
 ],
 "metadata": {
  "kernelspec": {
   "display_name": "Python 2",
   "language": "python",
   "name": "python2"
  },
  "language_info": {
   "codemirror_mode": {
    "name": "ipython",
    "version": 2
   },
   "file_extension": ".py",
   "mimetype": "text/x-python",
   "name": "python",
   "nbconvert_exporter": "python",
   "pygments_lexer": "ipython2",
   "version": "2.7.10"
  }
 },
 "nbformat": 4,
 "nbformat_minor": 0
}
