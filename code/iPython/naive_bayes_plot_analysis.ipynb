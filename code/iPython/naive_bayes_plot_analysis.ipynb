{
 "cells": [
  {
   "cell_type": "markdown",
   "metadata": {},
   "source": [
    "**Author**: Siddhant Sutar"
   ]
  },
  {
   "cell_type": "markdown",
   "metadata": {},
   "source": [
    "Import libraries."
   ]
  },
  {
   "cell_type": "code",
   "execution_count": 62,
   "metadata": {
    "collapsed": true
   },
   "outputs": [],
   "source": [
    "import pandas as pd\n",
    "import nltk\n",
    "from nltk.corpus import stopwords\n",
    "from sklearn.feature_extraction.text import TfidfVectorizer\n",
    "from sklearn.cross_validation import train_test_split\n",
    "from sklearn import naive_bayes\n",
    "from sklearn.metrics import roc_auc_score\n",
    "import numpy as np"
   ]
  },
  {
   "cell_type": "markdown",
   "metadata": {},
   "source": [
    "Import data and remove movies with no plot."
   ]
  },
  {
   "cell_type": "code",
   "execution_count": 63,
   "metadata": {
    "collapsed": true
   },
   "outputs": [],
   "source": [
    "df = pd.read_csv('plot_data.csv')\n",
    "df = df[pd.notnull(df['FullPlot'])]"
   ]
  },
  {
   "cell_type": "code",
   "execution_count": 64,
   "metadata": {
    "collapsed": false
   },
   "outputs": [
    {
     "data": {
      "text/html": [
       "<div>\n",
       "<table border=\"1\" class=\"dataframe\">\n",
       "  <thead>\n",
       "    <tr style=\"text-align: right;\">\n",
       "      <th></th>\n",
       "      <th>ID</th>\n",
       "      <th>Liked</th>\n",
       "      <th>FullPlot</th>\n",
       "    </tr>\n",
       "  </thead>\n",
       "  <tbody>\n",
       "    <tr>\n",
       "      <th>0</th>\n",
       "      <td>9</td>\n",
       "      <td>0</td>\n",
       "      <td>Geraldine (Jerry) Holbrook, a girl of Eastern ...</td>\n",
       "    </tr>\n",
       "    <tr>\n",
       "      <th>1</th>\n",
       "      <td>679</td>\n",
       "      <td>0</td>\n",
       "      <td>L. Frank Baum would appear in a white suit and...</td>\n",
       "    </tr>\n",
       "    <tr>\n",
       "      <th>2</th>\n",
       "      <td>966</td>\n",
       "      <td>0</td>\n",
       "      <td>Theseus, the Duke of Athens, is engaged to be ...</td>\n",
       "    </tr>\n",
       "    <tr>\n",
       "      <th>5</th>\n",
       "      <td>1409</td>\n",
       "      <td>0</td>\n",
       "      <td>This is a completely bogus title; no film bear...</td>\n",
       "    </tr>\n",
       "    <tr>\n",
       "      <th>6</th>\n",
       "      <td>1482</td>\n",
       "      <td>0</td>\n",
       "      <td>A father's drinking leads him to neglect his f...</td>\n",
       "    </tr>\n",
       "  </tbody>\n",
       "</table>\n",
       "</div>"
      ],
      "text/plain": [
       "     ID  Liked                                           FullPlot\n",
       "0     9      0  Geraldine (Jerry) Holbrook, a girl of Eastern ...\n",
       "1   679      0  L. Frank Baum would appear in a white suit and...\n",
       "2   966      0  Theseus, the Duke of Athens, is engaged to be ...\n",
       "5  1409      0  This is a completely bogus title; no film bear...\n",
       "6  1482      0  A father's drinking leads him to neglect his f..."
      ]
     },
     "execution_count": 64,
     "metadata": {},
     "output_type": "execute_result"
    }
   ],
   "source": [
    "df.head()"
   ]
  },
  {
   "cell_type": "markdown",
   "metadata": {},
   "source": [
    "Initialize TfidfVectorizer."
   ]
  },
  {
   "cell_type": "code",
   "execution_count": 65,
   "metadata": {
    "collapsed": false
   },
   "outputs": [],
   "source": [
    "stopset = set(stopwords.words('english'))\n",
    "vectorizer = TfidfVectorizer(use_idf=True, lowercase=True, strip_accents='ascii', stop_words=stopset)"
   ]
  },
  {
   "cell_type": "markdown",
   "metadata": {},
   "source": [
    "Dependent variable (y): whether the movie plot should be considered positive or negative. For our purposes, movies with a rating of more than 7.5 are considered positive (1), and the ones less are considered negative (0)."
   ]
  },
  {
   "cell_type": "code",
   "execution_count": 66,
   "metadata": {
    "collapsed": true
   },
   "outputs": [],
   "source": [
    "y = df.Liked"
   ]
  },
  {
   "cell_type": "markdown",
   "metadata": {},
   "source": [
    "Independent variable (x): movie plots."
   ]
  },
  {
   "cell_type": "code",
   "execution_count": 67,
   "metadata": {
    "collapsed": true
   },
   "outputs": [],
   "source": [
    "X = vectorizer.fit_transform(df.FullPlot)"
   ]
  },
  {
   "cell_type": "code",
   "execution_count": 68,
   "metadata": {
    "collapsed": false
   },
   "outputs": [
    {
     "name": "stdout",
     "output_type": "stream",
     "text": [
      "(51132L,)\n",
      "(51132, 70553)\n"
     ]
    }
   ],
   "source": [
    "print y.shape\n",
    "print X.shape"
   ]
  },
  {
   "cell_type": "code",
   "execution_count": 69,
   "metadata": {
    "collapsed": false
   },
   "outputs": [],
   "source": [
    "idf = vectorizer.idf_"
   ]
  },
  {
   "cell_type": "code",
   "execution_count": 70,
   "metadata": {
    "collapsed": false
   },
   "outputs": [],
   "source": [
    "my_dict = dict(zip(vectorizer.get_feature_names(), idf))"
   ]
  },
  {
   "cell_type": "markdown",
   "metadata": {},
   "source": [
    "Initialize and fit the multinomial Naive Bayes model."
   ]
  },
  {
   "cell_type": "code",
   "execution_count": 71,
   "metadata": {
    "collapsed": false
   },
   "outputs": [
    {
     "data": {
      "text/plain": [
       "MultinomialNB(alpha=1.0, class_prior=None, fit_prior=True)"
      ]
     },
     "execution_count": 71,
     "metadata": {},
     "output_type": "execute_result"
    }
   ],
   "source": [
    "clf = naive_bayes.MultinomialNB()\n",
    "clf.fit(X, y)"
   ]
  },
  {
   "cell_type": "markdown",
   "metadata": {},
   "source": [
    "Calculate the positive probabilities for the plot keywords."
   ]
  },
  {
   "cell_type": "code",
   "execution_count": 72,
   "metadata": {
    "collapsed": false
   },
   "outputs": [],
   "source": [
    "prob_dict = {}\n",
    "for key in sorted(my_dict, key=my_dict.get, reverse=True):\n",
    "    my_vector = vectorizer.transform(np.array([key]))\n",
    "    prob_dict[key] = clf.predict_proba(my_vector)[0][0]"
   ]
  },
  {
   "cell_type": "markdown",
   "metadata": {},
   "source": [
    "List the top 100 favorable plot keywords."
   ]
  },
  {
   "cell_type": "code",
   "execution_count": 73,
   "metadata": {
    "collapsed": false
   },
   "outputs": [
    {
     "name": "stdout",
     "output_type": "stream",
     "text": [
      "gene 0.987034323615\n",
      "scientist 0.98699651539\n",
      "vampires 0.986402333281\n",
      "framed 0.985173555853\n",
      "serial 0.985034548799\n",
      "killer 0.984629942026\n",
      "psychic 0.983595787067\n",
      "hunted 0.983298003708\n",
      "bloody 0.983132511294\n",
      "hoppy 0.983007750574\n",
      "murders 0.982915914691\n",
      "kills 0.98285965299\n",
      "gang 0.982824379984\n",
      "reporter 0.982769916105\n",
      "murdered 0.982684068084\n",
      "killing 0.982662446781\n",
      "victims 0.982452413522\n",
      "investigates 0.98242682129\n",
      "cia 0.982386584924\n",
      "horse 0.982354711421\n",
      "bikers 0.98223657818\n",
      "cops 0.982152930139\n",
      "undercover 0.982133440874\n",
      "crooked 0.982106631389\n",
      "kidnapped 0.982106026629\n",
      "cattle 0.982014605208\n",
      "aliens 0.981771160401\n",
      "agent 0.9815530767\n",
      "gangster 0.981379160208\n",
      "outlaw 0.981377474285\n",
      "deadly 0.981315690049\n",
      "zombies 0.98122655911\n",
      "rapist 0.98097135025\n",
      "publicity 0.980940815448\n",
      "ranch 0.98086227357\n",
      "horror 0.98056905273\n",
      "raped 0.980568754823\n",
      "creature 0.980502288108\n",
      "resort 0.980298488081\n",
      "supposedly 0.980285797345\n",
      "escaped 0.980203057276\n",
      "gangsters 0.980198796529\n",
      "nevada 0.980091285618\n",
      "indians 0.980078716091\n",
      "murder 0.980049941779\n",
      "terrorist 0.980037817154\n",
      "crazed 0.979949975511\n",
      "heather 0.979927113348\n",
      "vampire 0.97985531375\n",
      "brutally 0.979790025756\n",
      "assigned 0.979778585409\n",
      "suspect 0.979762883641\n",
      "accepts 0.979762746042\n",
      "gambling 0.979707563398\n",
      "bodies 0.979617000611\n",
      "publisher 0.979482967067\n",
      "prey 0.979469883469\n",
      "thieves 0.979422621461\n",
      "experiments 0.979394645136\n",
      "leader 0.979332720744\n",
      "terrorized 0.97930731311\n",
      "blood 0.979190843541\n",
      "suspicious 0.97909206016\n",
      "flesh 0.979029126206\n",
      "infiltrate 0.979014904953\n",
      "agents 0.979005236732\n",
      "nightclub 0.978981274335\n",
      "railroad 0.978959184427\n",
      "posing 0.97883595046\n",
      "killed 0.978831547428\n",
      "biker 0.978814795282\n",
      "rape 0.978763710166\n",
      "dennis 0.978708783545\n",
      "sheriff 0.978671357513\n",
      "duncan 0.978617781417\n",
      "eating 0.978586816173\n",
      "fraternity 0.978486220085\n",
      "aid 0.978471599624\n",
      "wagon 0.978464172171\n",
      "abducted 0.978309897522\n",
      "terrorists 0.978291485109\n",
      "mason 0.978243138203\n",
      "training 0.978236828542\n",
      "victim 0.978228319111\n",
      "investigating 0.978202838902\n",
      "crooks 0.978160110408\n",
      "loot 0.97812836386\n",
      "involved 0.978079175352\n",
      "mysteriously 0.978068845383\n",
      "robbery 0.977938461518\n",
      "demon 0.977856841244\n",
      "mobster 0.977842389761\n",
      "plane 0.977816257749\n",
      "uncovers 0.977784244228\n",
      "owner 0.977776322554\n",
      "basketball 0.977759492066\n",
      "matt 0.97769768711\n",
      "pursued 0.977570203693\n",
      "students 0.977526840156\n",
      "outlaws 0.977493309747\n"
     ]
    }
   ],
   "source": [
    "count = 0\n",
    "for key in sorted(prob_dict, key=prob_dict.get, reverse=True):\n",
    "    count += 1\n",
    "    if count <= 100:\n",
    "        print key, prob_dict[key]\n",
    "    else:\n",
    "        break"
   ]
  },
  {
   "cell_type": "code",
   "execution_count": null,
   "metadata": {
    "collapsed": true
   },
   "outputs": [],
   "source": []
  }
 ],
 "metadata": {
  "kernelspec": {
   "display_name": "Python 2",
   "language": "python",
   "name": "python2"
  },
  "language_info": {
   "codemirror_mode": {
    "name": "ipython",
    "version": 2
   },
   "file_extension": ".py",
   "mimetype": "text/x-python",
   "name": "python",
   "nbconvert_exporter": "python",
   "pygments_lexer": "ipython2",
   "version": "2.7.10"
  }
 },
 "nbformat": 4,
 "nbformat_minor": 0
}
